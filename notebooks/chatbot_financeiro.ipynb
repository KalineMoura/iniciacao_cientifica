{
 "cells": [
  {
   "cell_type": "code",
   "execution_count": null,
   "id": "cdab452c",
   "metadata": {
    "vscode": {
     "languageId": "plaintext"
    }
   },
   "outputs": [],
   "source": [
    "{\n",
    " \"cells\": [\n",
    "  {\n",
    "   \"cell_type\": \"markdown\",\n",
    "   \"metadata\": {},\n",
    "   \"source\": \"# Chatbot Financeiro 🤖💰\\n\\nNotebook de demonstração para uso do backend localizado em `src/`.\\n\\nEste notebook **não** cria arquivos `.py`; ele apenas importa o código existente no pacote e mostra como fazer chamadas ao assistente.\"\n",
    "  },\n",
    "  {\n",
    "   \"cell_type\": \"code\",\n",
    "   \"execution_count\": null,\n",
    "   \"metadata\": {},\n",
    "   \"outputs\": [],\n",
    "   \"source\": \"# Instalação de dependências (apenas Colab)\\n!pip install -q streamlit transformers torch langchain langchain-community faiss-cpu \\\\\\n               sentence-transformers huggingface-hub python-dotenv pyngrok\"\n",
    "  },\n",
    "  {\n",
    "   \"cell_type\": \"code\",\n",
    "   \"execution_count\": null,\n",
    "   \"metadata\": {},\n",
    "   \"outputs\": [],\n",
    "   \"source\": \"# Configuração do caminho para importar o pacote src/\\nimport pathlib, sys, os\\nPROJECT_DIR = pathlib.Path.cwd()  # ajuste se necessário\\nsys.path.append(str(PROJECT_DIR / \\\"src\\\"))\\n\\nfrom dotenv import load_dotenv\\nload_dotenv()  # lê variáveis do .env local (não versionado)\"\n",
    "  },\n",
    "  {\n",
    "   \"cell_type\": \"code\",\n",
    "   \"execution_count\": null,\n",
    "   \"metadata\": {},\n",
    "   \"outputs\": [],\n",
    "   \"source\": \"from main import gerar_resposta\\n\\npergunta = \\\"\\\"\\\"Quais são as melhores práticas para começar a economizar dinheiro?\\\"\\\"\\\"\\nresposta = gerar_resposta(pergunta)\\nprint(resposta)\"\n",
    "  },\n",
    "  {\n",
    "   \"cell_type\": \"code\",\n",
    "   \"execution_count\": null,\n",
    "   \"metadata\": {},\n",
    "   \"outputs\": [],\n",
    "   \"source\": \"def chat():\\n    while True:\\n        q = input(\\\"Você: \\\")\\n        if q.lower() in {\\\"sair\\\", \\\"exit\\\", \\\"quit\\\"}: break\\n        print(\\\"Bot:\\\", gerar_resposta(q))\\n\\n# Descomente para usar no terminal Colab\\n# chat()\"\n",
    "  }\n",
    " ],\n",
    " \"metadata\": {\n",
    "  \"kernelspec\": {\n",
    "   \"display_name\": \"Python 3\",\n",
    "   \"language\": \"python\",\n",
    "   \"name\": \"python3\"\n",
    "  },\n",
    "  \"language_info\": {\n",
    "   \"name\": \"python\",\n",
    "   \"version\": \"\"\n",
    "  }\n",
    " },\n",
    " \"nbformat\": 4,\n",
    " \"nbformat_minor\": 5\n",
    "}\n"
   ]
  }
 ],
 "metadata": {
  "language_info": {
   "name": "python"
  }
 },
 "nbformat": 4,
 "nbformat_minor": 5
}
